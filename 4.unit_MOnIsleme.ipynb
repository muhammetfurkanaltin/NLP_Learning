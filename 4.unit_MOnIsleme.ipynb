{
 "cells": [
  {
   "cell_type": "markdown",
   "metadata": {},
   "source": [
    "### 4.3 Veri Temzileme (Data Cleaning)"
   ]
  },
  {
   "cell_type": "code",
   "execution_count": null,
   "metadata": {},
   "outputs": [
    {
     "name": "stdout",
     "output_type": "stream",
     "text": [
      "text:  Hello,    World!   2034 \n",
      " cleaned_txt1: Hello, World! 2034\n"
     ]
    }
   ],
   "source": [
    "# Metinlerde Bulunan fazla boslukları kaldırma\n",
    "text = \" Hello,    World!   2034\"\n",
    "\n",
    "cleaned_txt1 = \" \".join(text.split())\n",
    "print(f\"text: {text} \\n cleaned_txt1: {cleaned_txt1}\")"
   ]
  },
  {
   "cell_type": "code",
   "execution_count": 2,
   "metadata": {},
   "outputs": [
    {
     "name": "stdout",
     "output_type": "stream",
     "text": [
      "text: Hello, World! 2034 \n",
      " cleaned_txt2: hello, world! 2034\n"
     ]
    }
   ],
   "source": [
    "# Buyuk kucuk harf cevirme\n",
    "text = \"Hello, World! 2034\"\n",
    "cleaned_txt2 = text.lower()\n",
    "print(f\"text: {text} \\n cleaned_txt2: {cleaned_txt2}\")"
   ]
  },
  {
   "cell_type": "code",
   "execution_count": 4,
   "metadata": {},
   "outputs": [
    {
     "name": "stdout",
     "output_type": "stream",
     "text": [
      "text: Hello, World! 2034 \n",
      " cleaned_txt3: Hello World 2034\n"
     ]
    }
   ],
   "source": [
    "# Noktalama işaretlerinin kaldır\n",
    "import string \n",
    "text = \"Hello, World! 2034\"\n",
    "\n",
    "cleaned_txt3 = text.translate(str.maketrans(\"\", \"\", string.punctuation))\n",
    "print(f\"text: {text} \\n cleaned_txt3: {cleaned_txt3}\")"
   ]
  },
  {
   "cell_type": "code",
   "execution_count": 8,
   "metadata": {},
   "outputs": [
    {
     "name": "stdout",
     "output_type": "stream",
     "text": [
      "text: Hello, World! 2034 % ,@ ,/ , * # \n",
      " cleaned_txt4: Hello World 2034      \n"
     ]
    }
   ],
   "source": [
    "# Ozel karaktrlerin kaldırılması % ,@ ,/ , * # \n",
    "import re\n",
    "text = \"Hello, World! 2034 % ,@ ,/ , * #\"\n",
    "cleaned_txt4 = re.sub(r\"[^A-Za-z0-9\\s]\", \"\", text)\n",
    "print(f\"text: {text} \\n cleaned_txt4: {cleaned_txt4}\")"
   ]
  },
  {
   "cell_type": "code",
   "execution_count": 11,
   "metadata": {},
   "outputs": [
    {
     "name": "stdout",
     "output_type": "stream",
     "text": [
      "Note: you may need to restart the kernel to use updated packages.\n",
      "text: I havv a speling errror \n",
      " cleaned_txt5: I have a spelling error\n"
     ]
    }
   ],
   "source": [
    "# yazim hatalarını düzeltme\n",
    "%pip install textblob -q\n",
    "from textblob import TextBlob\n",
    "text = \"I havv a speling errror\"\n",
    "TextBlob(text).correct() # correct yazım hatalarını düzeltir\n",
    "print(f\"text: {text} \\n cleaned_txt5: {TextBlob(text).correct()}\")"
   ]
  },
  {
   "cell_type": "code",
   "execution_count": 13,
   "metadata": {},
   "outputs": [
    {
     "name": "stdout",
     "output_type": "stream",
     "text": [
      "Note: you may need to restart the kernel to use updated packages.\n",
      "text: <div>Hello, World! 2034</div> \n",
      " cleaned_txt6: Hello, World! 2034\n"
     ]
    }
   ],
   "source": [
    "%pip install beautifulsoup4 -q\n",
    "from bs4 import BeautifulSoup\n",
    "html_text = \"<div>Hello, World! 2034</div>\"\n",
    "cleaned_txt6 = BeautifulSoup(html_text, \"html.parser\").get_text()\n",
    "print(f\"text: {html_text} \\n cleaned_txt6: {cleaned_txt6}\")"
   ]
  },
  {
   "cell_type": "markdown",
   "metadata": {},
   "source": [
    "### 4.4 Tokenizasyon "
   ]
  },
  {
   "cell_type": "code",
   "execution_count": null,
   "metadata": {},
   "outputs": [],
   "source": [
    "import nltk \n",
    "nltk.download(\"punkt\") # metni kelime ve cumle bazinda tokenlara ayirabilmek için gerekli \n",
    "\n",
    "text = \"Hello, World How are you? Hello, hi ...\"\n",
    "\n",
    "# kelime tokenizasyonu word_tokenize: kelimelere ayirir \n",
    "# noktalama işaretleri ve boslukları ayri birer token olarak elde edilecektir\n",
    "word_tokens = nltk.word_tokenize(text)\n",
    "\n",
    "# cumle tokenizasyonu sent_tokenize: cumlelere ayirir\n",
    "sentence_tokens = nltk.sent_tokenize(text)"
   ]
  },
  {
   "cell_type": "markdown",
   "metadata": {},
   "source": [
    "### 4.7 Kök ve Gövde Analizi (Stemming ve Lemmatization)"
   ]
  },
  {
   "cell_type": "code",
   "execution_count": 2,
   "metadata": {},
   "outputs": [
    {
     "name": "stdout",
     "output_type": "stream",
     "text": [
      "Stem: ['run', 'ran', 'easili', 'fair']\n"
     ]
    },
    {
     "name": "stderr",
     "output_type": "stream",
     "text": [
      "[nltk_data] Downloading package wordnet to\n",
      "[nltk_data]     C:\\Users\\mfurk\\AppData\\Roaming\\nltk_data...\n",
      "[nltk_data]   Package wordnet is already up-to-date!\n"
     ]
    }
   ],
   "source": [
    "import nltk\n",
    "nltk.download(\"wordnet\") # wordnet: lemmatizasyon ve kelime köklerini bulmak için gerekli\n",
    "from nltk.stem import PorterStemmer\n",
    "\n",
    "#porter stemmer nesnesini olustur\n",
    "stemmer = PorterStemmer()\n",
    "\n",
    "words = [\"running\", \"ran\", \"easily\", \"fairness\"]\n",
    "\n",
    "# kelimelerin stem'lerini buluyoruz, bunu yaparken de porter stemmerin stem() fonksiyonunu kullanıyoruz\n",
    "stems = [stemmer.stem(w) for w in words]\n",
    "print(f\"Stem: {stems}\")"
   ]
  },
  {
   "cell_type": "code",
   "execution_count": null,
   "metadata": {},
   "outputs": [
    {
     "name": "stdout",
     "output_type": "stream",
     "text": [
      "lemma :['run', 'run', 'easily', 'fairness']\n"
     ]
    }
   ],
   "source": [
    "from nltk.stem import WordNetLemmatizer\n",
    "\n",
    "lemmatizer = WordNetLemmatizer()\n",
    "words = [\"running\", \"ran\", \"easily\", \"fairness\"]\n",
    "\n",
    "lemmas = [lemmatizer.lemmatize(w, pos=\"v\") for w in words]  # pos = verb\n",
    "\n",
    "print(f\"lemma :{lemmas}\")"
   ]
  },
  {
   "cell_type": "markdown",
   "metadata": {},
   "source": [
    "### 4.8 Durdurma Kelimeleri (Stop Words)"
   ]
  },
  {
   "cell_type": "code",
   "execution_count": 6,
   "metadata": {},
   "outputs": [
    {
     "name": "stderr",
     "output_type": "stream",
     "text": [
      "[nltk_data] Downloading package stopwords to\n",
      "[nltk_data]     C:\\Users\\mfurk\\AppData\\Roaming\\nltk_data...\n",
      "[nltk_data]   Package stopwords is already up-to-date!\n"
     ]
    },
    {
     "data": {
      "text/plain": [
       "True"
      ]
     },
     "execution_count": 6,
     "metadata": {},
     "output_type": "execute_result"
    }
   ],
   "source": [
    "import nltk \n",
    "from nltk.corpus import stopwords\n",
    "nltk.download(\"stopwords\") # stopword'leri kullanabilmek için gerekli"
   ]
  },
  {
   "cell_type": "code",
   "execution_count": 7,
   "metadata": {},
   "outputs": [
    {
     "name": "stdout",
     "output_type": "stream",
     "text": [
      "Filtered text: ['example', 'sentences', 'stop', 'words.']\n"
     ]
    }
   ],
   "source": [
    "# ingilizce stop words analizi\n",
    "\n",
    "stop_words = set(stopwords.words(\"english\"))\n",
    "# örnek ingilizce metin\n",
    "text = \"There are some example sentences with some stop words.\"\n",
    "text_list = text.split()\n",
    "# eger word ingilizce stop words listesinde (stop_words_eng) yoksa,\n",
    "# bu kelimeyi filtrelenmis listeyi ekliyoruz\n",
    "filtered_text = [word for word in text_list if word.lower() not in stop_words]\n",
    "print(f\"Filtered text: {filtered_text}\")"
   ]
  },
  {
   "cell_type": "code",
   "execution_count": null,
   "metadata": {},
   "outputs": [
    {
     "name": "stdout",
     "output_type": "stream",
     "text": [
      "Filtered text: ['Merhaba,', 'bir', 'örnek', 'cümledir.', 'cümlede', 'durak', 'kelimeler', 'bulunmaktadır.']\n"
     ]
    }
   ],
   "source": [
    "# türkçe stop words analizi\n",
    "stop_words = set(stopwords.words(\"turkish\"))\n",
    "\n",
    "text = \"Merhaba, bu bir örnek cümledir. Bu cümlede bazı durak kelimeler bulunmaktadır.\"\n",
    "text_list = text.split()\n",
    "# eger word ingilizce stop words listesinde (stop_words_eng) yoksa,\n",
    "# bu kelimeyi filtrelenmis listeyi ekliyoruz\n",
    "filtered_text = [word for word in text_list if word.lower() not in stop_words]\n",
    "print(f\"Filtered text: {filtered_text}\")"
   ]
  },
  {
   "cell_type": "code",
   "execution_count": 12,
   "metadata": {},
   "outputs": [
    {
     "name": "stdout",
     "output_type": "stream",
     "text": [
      "Filtered text: ['Benim', 'adım', 'Ali.', 'Senin', 'adın', 'ne?']\n"
     ]
    }
   ],
   "source": [
    "# kutuphanesiz stop words cikarimi\n",
    "\n",
    "tr_stop_words = [\n",
    "    \"ben\", \"sen\", \"o\", \"biz\", \"siz\", \"onlar\",\n",
    "    \"bir\", \"ve\", \"ya\", \"ile\", \"de\", \"da\",\n",
    "    \"için\", \"ama\", \"fakat\", \"çünkü\", \"gibi\",\n",
    "    \"bu\", \"şu\", \"o\", \"herhangi bir\"\n",
    "]\n",
    "\n",
    "metin = \" için Benim biz adım Ali. fakat Senin adın ne?\"\n",
    "kelimeler = metin.split()\n",
    "filtered_metin = [kelime for kelime in kelimeler if kelime.lower() not in tr_stop_words]\n",
    "print(f\"Filtered text: {filtered_metin}\")"
   ]
  }
 ],
 "metadata": {
  "kernelspec": {
   "display_name": "Python 3",
   "language": "python",
   "name": "python3"
  },
  "language_info": {
   "codemirror_mode": {
    "name": "ipython",
    "version": 3
   },
   "file_extension": ".py",
   "mimetype": "text/x-python",
   "name": "python",
   "nbconvert_exporter": "python",
   "pygments_lexer": "ipython3",
   "version": "3.11.6"
  }
 },
 "nbformat": 4,
 "nbformat_minor": 2
}
